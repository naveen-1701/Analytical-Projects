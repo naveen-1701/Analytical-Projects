{
  "nbformat": 4,
  "nbformat_minor": 0,
  "metadata": {
    "colab": {
      "name": "Home loan prediciton.ipynb",
      "provenance": [],
      "collapsed_sections": [],
      "authorship_tag": "ABX9TyM2fCDgU+lMvAJMWbR/mfT2",
      "include_colab_link": true
    },
    "kernelspec": {
      "name": "python3",
      "display_name": "Python 3"
    }
  },
  "cells": [
    {
      "cell_type": "markdown",
      "metadata": {
        "id": "view-in-github",
        "colab_type": "text"
      },
      "source": [
        "<a href=\"https://colab.research.google.com/github/naveen-1701/Analytical-Projects/blob/main/Home_loan_prediciton.ipynb\" target=\"_parent\"><img src=\"https://colab.research.google.com/assets/colab-badge.svg\" alt=\"Open In Colab\"/></a>"
      ]
    },
    {
      "cell_type": "markdown",
      "metadata": {
        "id": "GNzvFCiIIxNM"
      },
      "source": [
        "## **Home Loan Prediciton**"
      ]
    },
    {
      "cell_type": "markdown",
      "metadata": {
        "id": "TXmDVnHuI6Z6"
      },
      "source": [
        "**Problem Statement**\r\n",
        "Dream Housing Finance company deals in all home loans. They have presence across all urban, semi urban and rural areas. Customer first apply for home loan after that company validates the customer eligibility for loan. Company wants to automate the loan eligibility process (real time) based on customer detail provided while filling online application form. These details are Gender, Marital Status, Education, Number of Dependents, Income, Loan Amount, Credit History and others. To automate this process, they have given a problem to identify the customers segments, those are eligible for loan amount so that they can specifically target these customers.\r\n",
        "\r\n",
        "Loan prediction is a very common real-life problem that each retail bank faces atleast once in its lifetime. If done correctly, it can save a lot of man hours at the end of a retail bank."
      ]
    },
    {
      "cell_type": "markdown",
      "metadata": {
        "id": "D6JXagK4Jp3s"
      },
      "source": [
        "### **Hypothesis Generation**\r\n",
        "Below are some of the factors which I think can affect the Loan Approval \r\n",
        "(dependent variable for this loan prediction problem):\r\n",
        "\r\n",
        "* Salary: Applicants with high income should have more chances of loan approval.\r\n",
        "\r\n",
        "* Previous history: Applicants who have repayed their previous debts should have higher chances of loan approval.\r\n",
        "\r\n",
        "* Loan amount: Loan approval should also depend on the loan amount. If the loan amount is less, chances of loan approval should be high.\r\n",
        "\r\n",
        "* Loan term: Loan for less time period and less amount should have higher chances of approval.\r\n",
        "\r\n",
        "* EMI: Lesser the amount to be paid monthly to repay the loan, higher the chances of loan approval.\r\n",
        "\r\n",
        "These are some of the factors which i think can affect the target variable, you can come up with many more factors."
      ]
    },
    {
      "cell_type": "markdown",
      "metadata": {
        "id": "teWYjjE6JpzN"
      },
      "source": [
        "### **Data Description:**\r\n",
        "Given below is the description for each variable.\r\n",
        "\r\n",
        "Variable ----- Description\r\n",
        "\r\n",
        "Loan_ID -->> Unique Loan ID\r\n",
        "\r\n",
        "Gender -->> Male/ Female\r\n",
        "\r\n",
        "Married -->> Applicant married (Y/N)\r\n",
        "\r\n",
        "Dependents -->> Number of dependents\r\n",
        "\r\n",
        "Education -->> Applicant Education (Graduate/ Under Graduate)\r\n",
        "\r\n",
        "Self_Employed -->> Self employed (Y/N)\r\n",
        "\r\n",
        "ApplicantIncome -->> Applicant income\r\n",
        "\r\n",
        "CoapplicantIncome -->> Coapplicant income\r\n",
        "\r\n",
        "LoanAmount -->> Loan amount in thousands\r\n",
        "\r\n",
        "Loan_Amount_Term -->> Term of loan in months\r\n",
        "\r\n",
        "Credit_History -->> credit history meets guidelines\r\n",
        "\r\n",
        "Property_Area -->> Urban/ Semi Urban/ Rural\r\n",
        "\r\n",
        "Loan_Status -->> Loan approved (Y/N)"
      ]
    },
    {
      "cell_type": "markdown",
      "metadata": {
        "id": "QWEMhlVpKRaT"
      },
      "source": [
        "Importing Required Libraries"
      ]
    },
    {
      "cell_type": "code",
      "metadata": {
        "id": "akz9xxjfKQdP"
      },
      "source": [
        "import numpy as np\r\n",
        "import pandas as pd\r\n",
        "import matplotlib.pyplot as plt\r\n",
        "import seaborn as sns\r\n",
        "%matplotlib inline\r\n",
        "from sklearn.preprocessing import OneHotEncoder\r\n",
        "from sklearn.compose import ColumnTransformer\r\n",
        "from sklearn.model_selection import train_test_split\r\n",
        "from sklearn.linear_model import LogisticRegression\r\n",
        "from sklearn.ensemble import RandomForestClassifier\r\n",
        "from sklearn.tree import plot_tree\r\n",
        "from sklearn.metrics import confusion_matrix,classification_report,plot_roc_curve\r\n",
        "from mlxtend.plotting import plot_confusion_matrix\r\n",
        "import warnings\r\n",
        "warnings.filterwarnings(\"ignore\")"
      ],
      "execution_count": 1,
      "outputs": []
    },
    {
      "cell_type": "markdown",
      "metadata": {
        "id": "mClvG5JIKpy9"
      },
      "source": [
        "### Importing Train and Test dataset"
      ]
    },
    {
      "cell_type": "code",
      "metadata": {
        "id": "X599cGznKisV"
      },
      "source": [
        "train=pd.read_csv(\"train.csv\") #train dataset\r\n",
        "test=pd.read_csv(\"test.csv\") #test dataset"
      ],
      "execution_count": 2,
      "outputs": []
    },
    {
      "cell_type": "code",
      "metadata": {
        "colab": {
          "base_uri": "https://localhost:8080/",
          "height": 241
        },
        "id": "mCwRCcAXK9oX",
        "outputId": "c78c57aa-5de9-43e1-eaca-d8636151dfac"
      },
      "source": [
        "train.head()"
      ],
      "execution_count": 3,
      "outputs": [
        {
          "output_type": "execute_result",
          "data": {
            "text/html": [
              "<div>\n",
              "<style scoped>\n",
              "    .dataframe tbody tr th:only-of-type {\n",
              "        vertical-align: middle;\n",
              "    }\n",
              "\n",
              "    .dataframe tbody tr th {\n",
              "        vertical-align: top;\n",
              "    }\n",
              "\n",
              "    .dataframe thead th {\n",
              "        text-align: right;\n",
              "    }\n",
              "</style>\n",
              "<table border=\"1\" class=\"dataframe\">\n",
              "  <thead>\n",
              "    <tr style=\"text-align: right;\">\n",
              "      <th></th>\n",
              "      <th>Loan_ID</th>\n",
              "      <th>Gender</th>\n",
              "      <th>Married</th>\n",
              "      <th>Dependents</th>\n",
              "      <th>Education</th>\n",
              "      <th>Self_Employed</th>\n",
              "      <th>ApplicantIncome</th>\n",
              "      <th>CoapplicantIncome</th>\n",
              "      <th>LoanAmount</th>\n",
              "      <th>Loan_Amount_Term</th>\n",
              "      <th>Credit_History</th>\n",
              "      <th>Property_Area</th>\n",
              "      <th>Loan_Status</th>\n",
              "    </tr>\n",
              "  </thead>\n",
              "  <tbody>\n",
              "    <tr>\n",
              "      <th>0</th>\n",
              "      <td>LP001002</td>\n",
              "      <td>Male</td>\n",
              "      <td>No</td>\n",
              "      <td>0</td>\n",
              "      <td>Graduate</td>\n",
              "      <td>No</td>\n",
              "      <td>5849</td>\n",
              "      <td>0.0</td>\n",
              "      <td>NaN</td>\n",
              "      <td>360.0</td>\n",
              "      <td>1.0</td>\n",
              "      <td>Urban</td>\n",
              "      <td>Y</td>\n",
              "    </tr>\n",
              "    <tr>\n",
              "      <th>1</th>\n",
              "      <td>LP001003</td>\n",
              "      <td>Male</td>\n",
              "      <td>Yes</td>\n",
              "      <td>1</td>\n",
              "      <td>Graduate</td>\n",
              "      <td>No</td>\n",
              "      <td>4583</td>\n",
              "      <td>1508.0</td>\n",
              "      <td>128.0</td>\n",
              "      <td>360.0</td>\n",
              "      <td>1.0</td>\n",
              "      <td>Rural</td>\n",
              "      <td>N</td>\n",
              "    </tr>\n",
              "    <tr>\n",
              "      <th>2</th>\n",
              "      <td>LP001005</td>\n",
              "      <td>Male</td>\n",
              "      <td>Yes</td>\n",
              "      <td>0</td>\n",
              "      <td>Graduate</td>\n",
              "      <td>Yes</td>\n",
              "      <td>3000</td>\n",
              "      <td>0.0</td>\n",
              "      <td>66.0</td>\n",
              "      <td>360.0</td>\n",
              "      <td>1.0</td>\n",
              "      <td>Urban</td>\n",
              "      <td>Y</td>\n",
              "    </tr>\n",
              "    <tr>\n",
              "      <th>3</th>\n",
              "      <td>LP001006</td>\n",
              "      <td>Male</td>\n",
              "      <td>Yes</td>\n",
              "      <td>0</td>\n",
              "      <td>Not Graduate</td>\n",
              "      <td>No</td>\n",
              "      <td>2583</td>\n",
              "      <td>2358.0</td>\n",
              "      <td>120.0</td>\n",
              "      <td>360.0</td>\n",
              "      <td>1.0</td>\n",
              "      <td>Urban</td>\n",
              "      <td>Y</td>\n",
              "    </tr>\n",
              "    <tr>\n",
              "      <th>4</th>\n",
              "      <td>LP001008</td>\n",
              "      <td>Male</td>\n",
              "      <td>No</td>\n",
              "      <td>0</td>\n",
              "      <td>Graduate</td>\n",
              "      <td>No</td>\n",
              "      <td>6000</td>\n",
              "      <td>0.0</td>\n",
              "      <td>141.0</td>\n",
              "      <td>360.0</td>\n",
              "      <td>1.0</td>\n",
              "      <td>Urban</td>\n",
              "      <td>Y</td>\n",
              "    </tr>\n",
              "  </tbody>\n",
              "</table>\n",
              "</div>"
            ],
            "text/plain": [
              "    Loan_ID Gender Married  ... Credit_History Property_Area Loan_Status\n",
              "0  LP001002   Male      No  ...            1.0         Urban           Y\n",
              "1  LP001003   Male     Yes  ...            1.0         Rural           N\n",
              "2  LP001005   Male     Yes  ...            1.0         Urban           Y\n",
              "3  LP001006   Male     Yes  ...            1.0         Urban           Y\n",
              "4  LP001008   Male      No  ...            1.0         Urban           Y\n",
              "\n",
              "[5 rows x 13 columns]"
            ]
          },
          "metadata": {
            "tags": []
          },
          "execution_count": 3
        }
      ]
    },
    {
      "cell_type": "code",
      "metadata": {
        "colab": {
          "base_uri": "https://localhost:8080/",
          "height": 241
        },
        "id": "IqncGPSFLJda",
        "outputId": "fb706601-a153-424f-b89e-95b676e7c8d2"
      },
      "source": [
        "test.head()"
      ],
      "execution_count": 4,
      "outputs": [
        {
          "output_type": "execute_result",
          "data": {
            "text/html": [
              "<div>\n",
              "<style scoped>\n",
              "    .dataframe tbody tr th:only-of-type {\n",
              "        vertical-align: middle;\n",
              "    }\n",
              "\n",
              "    .dataframe tbody tr th {\n",
              "        vertical-align: top;\n",
              "    }\n",
              "\n",
              "    .dataframe thead th {\n",
              "        text-align: right;\n",
              "    }\n",
              "</style>\n",
              "<table border=\"1\" class=\"dataframe\">\n",
              "  <thead>\n",
              "    <tr style=\"text-align: right;\">\n",
              "      <th></th>\n",
              "      <th>Loan_ID</th>\n",
              "      <th>Gender</th>\n",
              "      <th>Married</th>\n",
              "      <th>Dependents</th>\n",
              "      <th>Education</th>\n",
              "      <th>Self_Employed</th>\n",
              "      <th>ApplicantIncome</th>\n",
              "      <th>CoapplicantIncome</th>\n",
              "      <th>LoanAmount</th>\n",
              "      <th>Loan_Amount_Term</th>\n",
              "      <th>Credit_History</th>\n",
              "      <th>Property_Area</th>\n",
              "    </tr>\n",
              "  </thead>\n",
              "  <tbody>\n",
              "    <tr>\n",
              "      <th>0</th>\n",
              "      <td>LP001015</td>\n",
              "      <td>Male</td>\n",
              "      <td>Yes</td>\n",
              "      <td>0</td>\n",
              "      <td>Graduate</td>\n",
              "      <td>No</td>\n",
              "      <td>5720</td>\n",
              "      <td>0</td>\n",
              "      <td>110.0</td>\n",
              "      <td>360.0</td>\n",
              "      <td>1.0</td>\n",
              "      <td>Urban</td>\n",
              "    </tr>\n",
              "    <tr>\n",
              "      <th>1</th>\n",
              "      <td>LP001022</td>\n",
              "      <td>Male</td>\n",
              "      <td>Yes</td>\n",
              "      <td>1</td>\n",
              "      <td>Graduate</td>\n",
              "      <td>No</td>\n",
              "      <td>3076</td>\n",
              "      <td>1500</td>\n",
              "      <td>126.0</td>\n",
              "      <td>360.0</td>\n",
              "      <td>1.0</td>\n",
              "      <td>Urban</td>\n",
              "    </tr>\n",
              "    <tr>\n",
              "      <th>2</th>\n",
              "      <td>LP001031</td>\n",
              "      <td>Male</td>\n",
              "      <td>Yes</td>\n",
              "      <td>2</td>\n",
              "      <td>Graduate</td>\n",
              "      <td>No</td>\n",
              "      <td>5000</td>\n",
              "      <td>1800</td>\n",
              "      <td>208.0</td>\n",
              "      <td>360.0</td>\n",
              "      <td>1.0</td>\n",
              "      <td>Urban</td>\n",
              "    </tr>\n",
              "    <tr>\n",
              "      <th>3</th>\n",
              "      <td>LP001035</td>\n",
              "      <td>Male</td>\n",
              "      <td>Yes</td>\n",
              "      <td>2</td>\n",
              "      <td>Graduate</td>\n",
              "      <td>No</td>\n",
              "      <td>2340</td>\n",
              "      <td>2546</td>\n",
              "      <td>100.0</td>\n",
              "      <td>360.0</td>\n",
              "      <td>NaN</td>\n",
              "      <td>Urban</td>\n",
              "    </tr>\n",
              "    <tr>\n",
              "      <th>4</th>\n",
              "      <td>LP001051</td>\n",
              "      <td>Male</td>\n",
              "      <td>No</td>\n",
              "      <td>0</td>\n",
              "      <td>Not Graduate</td>\n",
              "      <td>No</td>\n",
              "      <td>3276</td>\n",
              "      <td>0</td>\n",
              "      <td>78.0</td>\n",
              "      <td>360.0</td>\n",
              "      <td>1.0</td>\n",
              "      <td>Urban</td>\n",
              "    </tr>\n",
              "  </tbody>\n",
              "</table>\n",
              "</div>"
            ],
            "text/plain": [
              "    Loan_ID Gender Married  ... Loan_Amount_Term Credit_History Property_Area\n",
              "0  LP001015   Male     Yes  ...            360.0            1.0         Urban\n",
              "1  LP001022   Male     Yes  ...            360.0            1.0         Urban\n",
              "2  LP001031   Male     Yes  ...            360.0            1.0         Urban\n",
              "3  LP001035   Male     Yes  ...            360.0            NaN         Urban\n",
              "4  LP001051   Male      No  ...            360.0            1.0         Urban\n",
              "\n",
              "[5 rows x 12 columns]"
            ]
          },
          "metadata": {
            "tags": []
          },
          "execution_count": 4
        }
      ]
    },
    {
      "cell_type": "code",
      "metadata": {
        "id": "eMDqvr_Nh_Ye"
      },
      "source": [
        "train.set_index(\"Loan_ID\",inplace=True)\r\n",
        "test.set_index(\"Loan_ID\",inplace=True)"
      ],
      "execution_count": 5,
      "outputs": []
    },
    {
      "cell_type": "code",
      "metadata": {
        "colab": {
          "base_uri": "https://localhost:8080/"
        },
        "id": "VVCyYWlwLN3I",
        "outputId": "99a87c4a-d452-44ed-b427-87b8693834f2"
      },
      "source": [
        "train.info()"
      ],
      "execution_count": 6,
      "outputs": [
        {
          "output_type": "stream",
          "text": [
            "<class 'pandas.core.frame.DataFrame'>\n",
            "Index: 614 entries, LP001002 to LP002990\n",
            "Data columns (total 12 columns):\n",
            " #   Column             Non-Null Count  Dtype  \n",
            "---  ------             --------------  -----  \n",
            " 0   Gender             601 non-null    object \n",
            " 1   Married            611 non-null    object \n",
            " 2   Dependents         599 non-null    object \n",
            " 3   Education          614 non-null    object \n",
            " 4   Self_Employed      582 non-null    object \n",
            " 5   ApplicantIncome    614 non-null    int64  \n",
            " 6   CoapplicantIncome  614 non-null    float64\n",
            " 7   LoanAmount         592 non-null    float64\n",
            " 8   Loan_Amount_Term   600 non-null    float64\n",
            " 9   Credit_History     564 non-null    float64\n",
            " 10  Property_Area      614 non-null    object \n",
            " 11  Loan_Status        614 non-null    object \n",
            "dtypes: float64(4), int64(1), object(7)\n",
            "memory usage: 62.4+ KB\n"
          ],
          "name": "stdout"
        }
      ]
    },
    {
      "cell_type": "code",
      "metadata": {
        "colab": {
          "base_uri": "https://localhost:8080/",
          "height": 204
        },
        "id": "kBpWA2pwLR9O",
        "outputId": "c1bfe7a9-ca0f-4dc6-a536-7881864518c3"
      },
      "source": [
        "train.describe().T"
      ],
      "execution_count": 7,
      "outputs": [
        {
          "output_type": "execute_result",
          "data": {
            "text/html": [
              "<div>\n",
              "<style scoped>\n",
              "    .dataframe tbody tr th:only-of-type {\n",
              "        vertical-align: middle;\n",
              "    }\n",
              "\n",
              "    .dataframe tbody tr th {\n",
              "        vertical-align: top;\n",
              "    }\n",
              "\n",
              "    .dataframe thead th {\n",
              "        text-align: right;\n",
              "    }\n",
              "</style>\n",
              "<table border=\"1\" class=\"dataframe\">\n",
              "  <thead>\n",
              "    <tr style=\"text-align: right;\">\n",
              "      <th></th>\n",
              "      <th>count</th>\n",
              "      <th>mean</th>\n",
              "      <th>std</th>\n",
              "      <th>min</th>\n",
              "      <th>25%</th>\n",
              "      <th>50%</th>\n",
              "      <th>75%</th>\n",
              "      <th>max</th>\n",
              "    </tr>\n",
              "  </thead>\n",
              "  <tbody>\n",
              "    <tr>\n",
              "      <th>ApplicantIncome</th>\n",
              "      <td>614.0</td>\n",
              "      <td>5403.459283</td>\n",
              "      <td>6109.041673</td>\n",
              "      <td>150.0</td>\n",
              "      <td>2877.5</td>\n",
              "      <td>3812.5</td>\n",
              "      <td>5795.00</td>\n",
              "      <td>81000.0</td>\n",
              "    </tr>\n",
              "    <tr>\n",
              "      <th>CoapplicantIncome</th>\n",
              "      <td>614.0</td>\n",
              "      <td>1621.245798</td>\n",
              "      <td>2926.248369</td>\n",
              "      <td>0.0</td>\n",
              "      <td>0.0</td>\n",
              "      <td>1188.5</td>\n",
              "      <td>2297.25</td>\n",
              "      <td>41667.0</td>\n",
              "    </tr>\n",
              "    <tr>\n",
              "      <th>LoanAmount</th>\n",
              "      <td>592.0</td>\n",
              "      <td>146.412162</td>\n",
              "      <td>85.587325</td>\n",
              "      <td>9.0</td>\n",
              "      <td>100.0</td>\n",
              "      <td>128.0</td>\n",
              "      <td>168.00</td>\n",
              "      <td>700.0</td>\n",
              "    </tr>\n",
              "    <tr>\n",
              "      <th>Loan_Amount_Term</th>\n",
              "      <td>600.0</td>\n",
              "      <td>342.000000</td>\n",
              "      <td>65.120410</td>\n",
              "      <td>12.0</td>\n",
              "      <td>360.0</td>\n",
              "      <td>360.0</td>\n",
              "      <td>360.00</td>\n",
              "      <td>480.0</td>\n",
              "    </tr>\n",
              "    <tr>\n",
              "      <th>Credit_History</th>\n",
              "      <td>564.0</td>\n",
              "      <td>0.842199</td>\n",
              "      <td>0.364878</td>\n",
              "      <td>0.0</td>\n",
              "      <td>1.0</td>\n",
              "      <td>1.0</td>\n",
              "      <td>1.00</td>\n",
              "      <td>1.0</td>\n",
              "    </tr>\n",
              "  </tbody>\n",
              "</table>\n",
              "</div>"
            ],
            "text/plain": [
              "                   count         mean          std  ...     50%      75%      max\n",
              "ApplicantIncome    614.0  5403.459283  6109.041673  ...  3812.5  5795.00  81000.0\n",
              "CoapplicantIncome  614.0  1621.245798  2926.248369  ...  1188.5  2297.25  41667.0\n",
              "LoanAmount         592.0   146.412162    85.587325  ...   128.0   168.00    700.0\n",
              "Loan_Amount_Term   600.0   342.000000    65.120410  ...   360.0   360.00    480.0\n",
              "Credit_History     564.0     0.842199     0.364878  ...     1.0     1.00      1.0\n",
              "\n",
              "[5 rows x 8 columns]"
            ]
          },
          "metadata": {
            "tags": []
          },
          "execution_count": 7
        }
      ]
    },
    {
      "cell_type": "code",
      "metadata": {
        "id": "Bjs8eF-uPo_V"
      },
      "source": [
        "train.Loan_Status=train.Loan_Status.replace({\"Y\":1,\"N\":0})\r\n",
        "train[\"Credit_History\"]=train[\"Credit_History\"].astype(\"category\")\r\n",
        "test[\"Credit_History\"]=test[\"Credit_History\"].astype(\"category\")\r\n",
        "\r\n"
      ],
      "execution_count": 8,
      "outputs": []
    },
    {
      "cell_type": "markdown",
      "metadata": {
        "id": "xy7RU6gMOZR3"
      },
      "source": [
        "EDA"
      ]
    },
    {
      "cell_type": "code",
      "metadata": {
        "colab": {
          "base_uri": "https://localhost:8080/",
          "height": 295
        },
        "id": "Jk17gPTqNOC_",
        "outputId": "f300f16a-f432-46c4-f08b-8121414b900d"
      },
      "source": [
        "sns.barplot(\"Married\",\"LoanAmount\",data=train,palette=\"Set2\",ci=None)\r\n",
        "plt.title(\"Marital Status vs Loan Amount\")\r\n",
        "plt.show()"
      ],
      "execution_count": 9,
      "outputs": [
        {
          "output_type": "display_data",
          "data": {
            "image/png": "[encoded data removed]",
            "text/plain": [
              "<Figure size 432x288 with 1 Axes>"
            ]
          },
          "metadata": {
            "tags": [],
            "needs_background": "light"
          }
        }
      ]
    },
    {
      "cell_type": "code",
      "metadata": {
        "colab": {
          "base_uri": "https://localhost:8080/",
          "height": 295
        },
        "id": "TSAdrWwYOyuf",
        "outputId": "56fc8051-8380-46a6-980d-8cf964e65348"
      },
      "source": [
        "sns.barplot(\"Gender\",\"LoanAmount\",data=train,palette=\"Set2\",ci=None)\r\n",
        "plt.title(\"Gender vs Loan Amount\")\r\n",
        "plt.show()"
      ],
      "execution_count": 10,
      "outputs": [
        {
          "output_type": "display_data",
          "data": {
            "image/png": "[encoded data removed]",
            "text/plain": [
              "<Figure size 432x288 with 1 Axes>"
            ]
          },
          "metadata": {
            "tags": [],
            "needs_background": "light"
          }
        }
      ]
    },
    {
      "cell_type": "code",
      "metadata": {
        "colab": {
          "base_uri": "https://localhost:8080/",
          "height": 295
        },
        "id": "qSHUmWSZPb9F",
        "outputId": "0d95a838-fcd2-4e86-dabb-107401dd5322"
      },
      "source": [
        "sns.countplot(\"Gender\",hue=\"Loan_Status\",data=train,palette=\"Set2\")\r\n",
        "plt.title(\"Gender vs Loan Status\")\r\n",
        "plt.show()"
      ],
      "execution_count": 11,
      "outputs": [
        {
          "output_type": "display_data",
          "data": {
            "image/png": "[encoded data removed]",
            "text/plain": [
              "<Figure size 432x288 with 1 Axes>"
            ]
          },
          "metadata": {
            "tags": [],
            "needs_background": "light"
          }
        }
      ]
    },
    {
      "cell_type": "code",
      "metadata": {
        "colab": {
          "base_uri": "https://localhost:8080/",
          "height": 296
        },
        "id": "IkAr3wEoQKM5",
        "outputId": "6c8fc5f5-56bb-4dcc-9f6d-ba0f505c7241"
      },
      "source": [
        "sns.countplot(\"Credit_History\",hue=\"Loan_Status\",data=train,palette=\"Set2\")\r\n",
        "plt.title(\"Credit History  vs Loan Status\")\r\n",
        "plt.show()"
      ],
      "execution_count": 12,
      "outputs": [
        {
          "output_type": "display_data",
          "data": {
            "image/png": "[encoded data removed]",
            "text/plain": [
              "<Figure size 432x288 with 1 Axes>"
            ]
          },
          "metadata": {
            "tags": [],
            "needs_background": "light"
          }
        }
      ]
    },
    {
      "cell_type": "code",
      "metadata": {
        "colab": {
          "base_uri": "https://localhost:8080/",
          "height": 296
        },
        "id": "YnjXRTp-QVai",
        "outputId": "e75c5ac5-bee9-4922-ff3a-83760dfcc38d"
      },
      "source": [
        "sns.countplot(\"Property_Area\",hue=\"Loan_Status\",data=train,palette=\"Set2\")\r\n",
        "plt.title(\"Property Area  vs Loan Status\")\r\n",
        "plt.show()"
      ],
      "execution_count": 13,
      "outputs": [
        {
          "output_type": "display_data",
          "data": {
            "image/png": "[encoded data removed]",
            "text/plain": [
              "<Figure size 432x288 with 1 Axes>"
            ]
          },
          "metadata": {
            "tags": [],
            "needs_background": "light"
          }
        }
      ]
    },
    {
      "cell_type": "code",
      "metadata": {
        "colab": {
          "base_uri": "https://localhost:8080/",
          "height": 295
        },
        "id": "Vb0p5jnuR1wq",
        "outputId": "34010b79-bc79-41a9-b214-8897defbb9d8"
      },
      "source": [
        "sns.countplot(\"Education\",hue=\"Loan_Status\",data=train,palette=\"Set2\")\r\n",
        "plt.title(\"Education  vs Loan Status\")\r\n",
        "plt.show()"
      ],
      "execution_count": 14,
      "outputs": [
        {
          "output_type": "display_data",
          "data": {
            "image/png": "[encoded data removed]",
            "text/plain": [
              "<Figure size 432x288 with 1 Axes>"
            ]
          },
          "metadata": {
            "tags": [],
            "needs_background": "light"
          }
        }
      ]
    },
    {
      "cell_type": "code",
      "metadata": {
        "colab": {
          "base_uri": "https://localhost:8080/",
          "height": 296
        },
        "id": "sNTaKmecSQgR",
        "outputId": "392eda22-a26a-42c7-f923-bb6e807e527e"
      },
      "source": [
        "sns.countplot(\"Self_Employed\",hue=\"Loan_Status\",data=train,palette=\"Set2\")\r\n",
        "plt.title(\"Self Employed  vs Loan Status\")\r\n",
        "plt.show()"
      ],
      "execution_count": 15,
      "outputs": [
        {
          "output_type": "display_data",
          "data": {
            "image/png": "[encoded data removed]",
            "text/plain": [
              "<Figure size 432x288 with 1 Axes>"
            ]
          },
          "metadata": {
            "tags": [],
            "needs_background": "light"
          }
        }
      ]
    },
    {
      "cell_type": "code",
      "metadata": {
        "colab": {
          "base_uri": "https://localhost:8080/",
          "height": 514
        },
        "id": "b5oNkVPXSp1v",
        "outputId": "5ce42488-d280-4988-b37c-1e035804e983"
      },
      "source": [
        "plt.figure(figsize=(10,8))\r\n",
        "sns.barplot(\"Loan_Amount_Term\",\"LoanAmount\",hue=\"Loan_Status\",data=train,palette=\"Set2\",ci=None)\r\n",
        "plt.title(\"Loan Amount  vs Loan Term\")\r\n",
        "plt.show()"
      ],
      "execution_count": 16,
      "outputs": [
        {
          "output_type": "display_data",
          "data": {
            "image/png": "[encoded data removed]",
            "text/plain": [
              "<Figure size 720x576 with 1 Axes>"
            ]
          },
          "metadata": {
            "tags": [],
            "needs_background": "light"
          }
        }
      ]
    },
    {
      "cell_type": "code",
      "metadata": {
        "colab": {
          "base_uri": "https://localhost:8080/",
          "height": 514
        },
        "id": "5Bw712deT6-M",
        "outputId": "cb32da2e-0cfc-48e4-969c-12c05f32c3d3"
      },
      "source": [
        "plt.figure(figsize=(10,8))\r\n",
        "sns.countplot(\"Loan_Amount_Term\",hue=\"Loan_Status\",data=train,palette=\"Set2\")\r\n",
        "plt.title(\"Count of Loan Term\")\r\n",
        "plt.show()"
      ],
      "execution_count": 17,
      "outputs": [
        {
          "output_type": "display_data",
          "data": {
            "image/png": "[encoded data removed]",
            "text/plain": [
              "<Figure size 720x576 with 1 Axes>"
            ]
          },
          "metadata": {
            "tags": [],
            "needs_background": "light"
          }
        }
      ]
    },
    {
      "cell_type": "code",
      "metadata": {
        "colab": {
          "base_uri": "https://localhost:8080/",
          "height": 441
        },
        "id": "FAsFdiGnVXly",
        "outputId": "d5f7f014-4b74-4abc-8033-157e1d15faac"
      },
      "source": [
        "sns.jointplot(\"ApplicantIncome\",\"LoanAmount\",data=train,color=\"g\",alpha=.5)\r\n",
        "plt.title(\"Applicant Income vs Loan Amount \")\r\n",
        "plt.show()"
      ],
      "execution_count": 18,
      "outputs": [
        {
          "output_type": "display_data",
          "data": {
            "image/png": "[encoded data removed]",
            "text/plain": [
              "<Figure size 432x432 with 3 Axes>"
            ]
          },
          "metadata": {
            "tags": [],
            "needs_background": "light"
          }
        }
      ]
    },
    {
      "cell_type": "code",
      "metadata": {
        "colab": {
          "base_uri": "https://localhost:8080/",
          "height": 465
        },
        "id": "bFAD3y23U1bw",
        "outputId": "7f1828ad-fdca-49db-b302-3af04e01ca48"
      },
      "source": [
        "plt.figure(figsize=(8,6))\r\n",
        "sns.heatmap(train.corr(),annot=True,\r\n",
        "            linewidths=.7,\r\n",
        "            cmap=\"coolwarm\",square=True)\r\n",
        "plt.show()"
      ],
      "execution_count": 19,
      "outputs": [
        {
          "output_type": "display_data",
          "data": {
            "image/png": "[encoded data removed]",
            "text/plain": [
              "<Figure size 576x432 with 2 Axes>"
            ]
          },
          "metadata": {
            "tags": [],
            "needs_background": "light"
          }
        }
      ]
    },
    {
      "cell_type": "markdown",
      "metadata": {
        "id": "yem8KywEOeDt"
      },
      "source": [
        "**Insights observed:**\r\n",
        "\r\n",
        "*   Married people have more loan amount compared to Unmarried.\r\n",
        "*   Male have more loan amount compared to Female.\r\n",
        "*   No Gender bias in loan approval.\r\n",
        "*   Married people have more loan approved.\r\n",
        "*  Credit History plays vital role in loan approval.\r\n",
        "* People from semi-urban has more loan approved.\r\n",
        "* Graduates have more loan approved.\r\n",
        "* Salaried people have more loan approval.\r\n",
        "* More approved loans are for term of 360 months.\r\n",
        "* High Loan amoutns are approved for term of 300 months.\r\n",
        "* Applicant Income and Loan amount are correlated.\r\n",
        "\r\n",
        "\r\n"
      ]
    },
    {
      "cell_type": "markdown",
      "metadata": {
        "id": "0QU5WmMtP5uC"
      },
      "source": [
        "Data Cleaning"
      ]
    },
    {
      "cell_type": "code",
      "metadata": {
        "colab": {
          "base_uri": "https://localhost:8080/",
          "height": 272
        },
        "id": "tzgatQeJOTlb",
        "outputId": "a7717b1b-4c4b-4d28-f664-b224c4cdc1fd"
      },
      "source": [
        "train.head()"
      ],
      "execution_count": 20,
      "outputs": [
        {
          "output_type": "execute_result",
          "data": {
            "text/html": [
              "<div>\n",
              "<style scoped>\n",
              "    .dataframe tbody tr th:only-of-type {\n",
              "        vertical-align: middle;\n",
              "    }\n",
              "\n",
              "    .dataframe tbody tr th {\n",
              "        vertical-align: top;\n",
              "    }\n",
              "\n",
              "    .dataframe thead th {\n",
              "        text-align: right;\n",
              "    }\n",
              "</style>\n",
              "<table border=\"1\" class=\"dataframe\">\n",
              "  <thead>\n",
              "    <tr style=\"text-align: right;\">\n",
              "      <th></th>\n",
              "      <th>Gender</th>\n",
              "      <th>Married</th>\n",
              "      <th>Dependents</th>\n",
              "      <th>Education</th>\n",
              "      <th>Self_Employed</th>\n",
              "      <th>ApplicantIncome</th>\n",
              "      <th>CoapplicantIncome</th>\n",
              "      <th>LoanAmount</th>\n",
              "      <th>Loan_Amount_Term</th>\n",
              "      <th>Credit_History</th>\n",
              "      <th>Property_Area</th>\n",
              "      <th>Loan_Status</th>\n",
              "    </tr>\n",
              "    <tr>\n",
              "      <th>Loan_ID</th>\n",
              "      <th></th>\n",
              "      <th></th>\n",
              "      <th></th>\n",
              "      <th></th>\n",
              "      <th></th>\n",
              "      <th></th>\n",
              "      <th></th>\n",
              "      <th></th>\n",
              "      <th></th>\n",
              "      <th></th>\n",
              "      <th></th>\n",
              "      <th></th>\n",
              "    </tr>\n",
              "  </thead>\n",
              "  <tbody>\n",
              "    <tr>\n",
              "      <th>LP001002</th>\n",
              "      <td>Male</td>\n",
              "      <td>No</td>\n",
              "      <td>0</td>\n",
              "      <td>Graduate</td>\n",
              "      <td>No</td>\n",
              "      <td>5849</td>\n",
              "      <td>0.0</td>\n",
              "      <td>NaN</td>\n",
              "      <td>360.0</td>\n",
              "      <td>1.0</td>\n",
              "      <td>Urban</td>\n",
              "      <td>1</td>\n",
              "    </tr>\n",
              "    <tr>\n",
              "      <th>LP001003</th>\n",
              "      <td>Male</td>\n",
              "      <td>Yes</td>\n",
              "      <td>1</td>\n",
              "      <td>Graduate</td>\n",
              "      <td>No</td>\n",
              "      <td>4583</td>\n",
              "      <td>1508.0</td>\n",
              "      <td>128.0</td>\n",
              "      <td>360.0</td>\n",
              "      <td>1.0</td>\n",
              "      <td>Rural</td>\n",
              "      <td>0</td>\n",
              "    </tr>\n",
              "    <tr>\n",
              "      <th>LP001005</th>\n",
              "      <td>Male</td>\n",
              "      <td>Yes</td>\n",
              "      <td>0</td>\n",
              "      <td>Graduate</td>\n",
              "      <td>Yes</td>\n",
              "      <td>3000</td>\n",
              "      <td>0.0</td>\n",
              "      <td>66.0</td>\n",
              "      <td>360.0</td>\n",
              "      <td>1.0</td>\n",
              "      <td>Urban</td>\n",
              "      <td>1</td>\n",
              "    </tr>\n",
              "    <tr>\n",
              "      <th>LP001006</th>\n",
              "      <td>Male</td>\n",
              "      <td>Yes</td>\n",
              "      <td>0</td>\n",
              "      <td>Not Graduate</td>\n",
              "      <td>No</td>\n",
              "      <td>2583</td>\n",
              "      <td>2358.0</td>\n",
              "      <td>120.0</td>\n",
              "      <td>360.0</td>\n",
              "      <td>1.0</td>\n",
              "      <td>Urban</td>\n",
              "      <td>1</td>\n",
              "    </tr>\n",
              "    <tr>\n",
              "      <th>LP001008</th>\n",
              "      <td>Male</td>\n",
              "      <td>No</td>\n",
              "      <td>0</td>\n",
              "      <td>Graduate</td>\n",
              "      <td>No</td>\n",
              "      <td>6000</td>\n",
              "      <td>0.0</td>\n",
              "      <td>141.0</td>\n",
              "      <td>360.0</td>\n",
              "      <td>1.0</td>\n",
              "      <td>Urban</td>\n",
              "      <td>1</td>\n",
              "    </tr>\n",
              "  </tbody>\n",
              "</table>\n",
              "</div>"
            ],
            "text/plain": [
              "         Gender Married Dependents  ... Credit_History Property_Area  Loan_Status\n",
              "Loan_ID                             ...                                          \n",
              "LP001002   Male      No          0  ...            1.0         Urban            1\n",
              "LP001003   Male     Yes          1  ...            1.0         Rural            0\n",
              "LP001005   Male     Yes          0  ...            1.0         Urban            1\n",
              "LP001006   Male     Yes          0  ...            1.0         Urban            1\n",
              "LP001008   Male      No          0  ...            1.0         Urban            1\n",
              "\n",
              "[5 rows x 12 columns]"
            ]
          },
          "metadata": {
            "tags": []
          },
          "execution_count": 20
        }
      ]
    },
    {
      "cell_type": "markdown",
      "metadata": {
        "id": "xicwfx9LmkQJ"
      },
      "source": [
        "Splitting Features into Numeric and Categorical"
      ]
    },
    {
      "cell_type": "code",
      "metadata": {
        "colab": {
          "base_uri": "https://localhost:8080/"
        },
        "id": "XVl4NWcIf4Vj",
        "outputId": "b78f0516-00be-43e5-ef5d-ce907865c81a"
      },
      "source": [
        "train_cat_cols=train.select_dtypes([\"category\",\"object\"]).columns.to_list()\r\n",
        "train_num_cols=train.select_dtypes(exclude=[\"category\",\"object\"]).columns.to_list()\r\n",
        "print(\"Train Datset:\\n\\nCategorical columns are {} :{}\\n\\nNumeric columns are {} :{}\".format(len(train_cat_cols),\r\n",
        "                                                                          train_cat_cols,\r\n",
        "                                                                          len(train_num_cols),\r\n",
        "                                                                          train_num_cols ))"
      ],
      "execution_count": 21,
      "outputs": [
        {
          "output_type": "stream",
          "text": [
            "Train Datset:\n",
            "\n",
            "Categorical columns are 7 :['Gender', 'Married', 'Dependents', 'Education', 'Self_Employed', 'Credit_History', 'Property_Area']\n",
            "\n",
            "Numeric columns are 5 :['ApplicantIncome', 'CoapplicantIncome', 'LoanAmount', 'Loan_Amount_Term', 'Loan_Status']\n"
          ],
          "name": "stdout"
        }
      ]
    },
    {
      "cell_type": "code",
      "metadata": {
        "colab": {
          "base_uri": "https://localhost:8080/"
        },
        "id": "i-l1cEUjmR-j",
        "outputId": "c6303f03-de3d-43ac-9bd2-ea04e13c1ee1"
      },
      "source": [
        "test_cat_cols=test.select_dtypes([\"category\",\"object\"]).columns.to_list()\r\n",
        "test_num_cols=test.select_dtypes(exclude=[\"category\",\"object\"]).columns.to_list()\r\n",
        "print(\"Test Datset:\\n\\nCategorical columns are {} :{}\\n\\nNumeric columns are {} :{}\".format(len(test_cat_cols),\r\n",
        "                                                                          test_cat_cols,\r\n",
        "                                                                          len(test_num_cols),\r\n",
        "                                                                          test_num_cols ))"
      ],
      "execution_count": 22,
      "outputs": [
        {
          "output_type": "stream",
          "text": [
            "Test Datset:\n",
            "\n",
            "Categorical columns are 7 :['Gender', 'Married', 'Dependents', 'Education', 'Self_Employed', 'Credit_History', 'Property_Area']\n",
            "\n",
            "Numeric columns are 4 :['ApplicantIncome', 'CoapplicantIncome', 'LoanAmount', 'Loan_Amount_Term']\n"
          ],
          "name": "stdout"
        }
      ]
    },
    {
      "cell_type": "markdown",
      "metadata": {
        "id": "mNPo3rNDi2W6"
      },
      "source": [
        "### Checking for missing values"
      ]
    },
    {
      "cell_type": "code",
      "metadata": {
        "colab": {
          "base_uri": "https://localhost:8080/"
        },
        "id": "oi2k3sVtmzPF",
        "outputId": "1d306799-7e04-43f7-e10a-13af0ff91748"
      },
      "source": [
        "train[train_num_cols].isnull().sum() #Train dataset Numeric Features"
      ],
      "execution_count": 23,
      "outputs": [
        {
          "output_type": "execute_result",
          "data": {
            "text/plain": [
              "ApplicantIncome       0\n",
              "CoapplicantIncome     0\n",
              "LoanAmount           22\n",
              "Loan_Amount_Term     14\n",
              "Loan_Status           0\n",
              "dtype: int64"
            ]
          },
          "metadata": {
            "tags": []
          },
          "execution_count": 23
        }
      ]
    },
    {
      "cell_type": "code",
      "metadata": {
        "colab": {
          "base_uri": "https://localhost:8080/"
        },
        "id": "zJUiclFMmzSV",
        "outputId": "65127318-2a6d-45c9-d026-b8f0ce0f299e"
      },
      "source": [
        "train[train_cat_cols].isnull().sum() #Train dataset Categorical Features"
      ],
      "execution_count": 24,
      "outputs": [
        {
          "output_type": "execute_result",
          "data": {
            "text/plain": [
              "Gender            13\n",
              "Married            3\n",
              "Dependents        15\n",
              "Education          0\n",
              "Self_Employed     32\n",
              "Credit_History    50\n",
              "Property_Area      0\n",
              "dtype: int64"
            ]
          },
          "metadata": {
            "tags": []
          },
          "execution_count": 24
        }
      ]
    },
    {
      "cell_type": "code",
      "metadata": {
        "colab": {
          "base_uri": "https://localhost:8080/"
        },
        "id": "3GFoK3iQixwO",
        "outputId": "981fdae1-a0f2-4bec-f9fc-64049ef9d8d5"
      },
      "source": [
        "test[test_cat_cols].isnull().sum() #Test dataset Numeric Features"
      ],
      "execution_count": 25,
      "outputs": [
        {
          "output_type": "execute_result",
          "data": {
            "text/plain": [
              "Gender            11\n",
              "Married            0\n",
              "Dependents        10\n",
              "Education          0\n",
              "Self_Employed     23\n",
              "Credit_History    29\n",
              "Property_Area      0\n",
              "dtype: int64"
            ]
          },
          "metadata": {
            "tags": []
          },
          "execution_count": 25
        }
      ]
    },
    {
      "cell_type": "code",
      "metadata": {
        "colab": {
          "base_uri": "https://localhost:8080/"
        },
        "id": "lO9O0hKtjEWz",
        "outputId": "0702700d-faec-4ec3-fe40-2c22edd09b6e"
      },
      "source": [
        "test[test_cat_cols].isnull().sum() #Test dataset Categorical Features"
      ],
      "execution_count": 26,
      "outputs": [
        {
          "output_type": "execute_result",
          "data": {
            "text/plain": [
              "Gender            11\n",
              "Married            0\n",
              "Dependents        10\n",
              "Education          0\n",
              "Self_Employed     23\n",
              "Credit_History    29\n",
              "Property_Area      0\n",
              "dtype: int64"
            ]
          },
          "metadata": {
            "tags": []
          },
          "execution_count": 26
        }
      ]
    },
    {
      "cell_type": "markdown",
      "metadata": {
        "id": "kr5T8qvbnu2Q"
      },
      "source": [
        "Imputing Numerical missing values"
      ]
    },
    {
      "cell_type": "code",
      "metadata": {
        "colab": {
          "base_uri": "https://localhost:8080/"
        },
        "id": "XlWWZHgyj0Yo",
        "outputId": "73bab28c-79b1-408c-b5da-22997f885f1a"
      },
      "source": [
        "train_missing_num_col=[]\r\n",
        "for col in train_num_cols:\r\n",
        "  if  train[col].isnull().sum()>0:\r\n",
        "    train_missing_num_col.append(col)\r\n",
        "\r\n",
        "print(\"Number of Numeric columns with missing values are {} and columns are :{}\".format(len(train_missing_num_col),\r\n",
        "                                                                                train_missing_num_col) )"
      ],
      "execution_count": 27,
      "outputs": [
        {
          "output_type": "stream",
          "text": [
            "Number of Numeric columns with missing values are 2 and columns are :['LoanAmount', 'Loan_Amount_Term']\n"
          ],
          "name": "stdout"
        }
      ]
    },
    {
      "cell_type": "code",
      "metadata": {
        "colab": {
          "base_uri": "https://localhost:8080/",
          "height": 111
        },
        "id": "sK4onX9Uj-ZF",
        "outputId": "4e801bb0-dd3b-49de-cc43-3b8a4ed774e5"
      },
      "source": [
        "train[train_missing_num_col].agg(['mean','median','skew']).T"
      ],
      "execution_count": 28,
      "outputs": [
        {
          "output_type": "execute_result",
          "data": {
            "text/html": [
              "<div>\n",
              "<style scoped>\n",
              "    .dataframe tbody tr th:only-of-type {\n",
              "        vertical-align: middle;\n",
              "    }\n",
              "\n",
              "    .dataframe tbody tr th {\n",
              "        vertical-align: top;\n",
              "    }\n",
              "\n",
              "    .dataframe thead th {\n",
              "        text-align: right;\n",
              "    }\n",
              "</style>\n",
              "<table border=\"1\" class=\"dataframe\">\n",
              "  <thead>\n",
              "    <tr style=\"text-align: right;\">\n",
              "      <th></th>\n",
              "      <th>mean</th>\n",
              "      <th>median</th>\n",
              "      <th>skew</th>\n",
              "    </tr>\n",
              "  </thead>\n",
              "  <tbody>\n",
              "    <tr>\n",
              "      <th>LoanAmount</th>\n",
              "      <td>146.412162</td>\n",
              "      <td>128.0</td>\n",
              "      <td>2.677552</td>\n",
              "    </tr>\n",
              "    <tr>\n",
              "      <th>Loan_Amount_Term</th>\n",
              "      <td>342.000000</td>\n",
              "      <td>360.0</td>\n",
              "      <td>-2.362414</td>\n",
              "    </tr>\n",
              "  </tbody>\n",
              "</table>\n",
              "</div>"
            ],
            "text/plain": [
              "                        mean  median      skew\n",
              "LoanAmount        146.412162   128.0  2.677552\n",
              "Loan_Amount_Term  342.000000   360.0 -2.362414"
            ]
          },
          "metadata": {
            "tags": []
          },
          "execution_count": 28
        }
      ]
    },
    {
      "cell_type": "code",
      "metadata": {
        "id": "M1Vnv-2Gj-mG"
      },
      "source": [
        "for col in train_missing_num_col:\r\n",
        "  train[col]=train[col].fillna(train[col].median())  #imputing with median"
      ],
      "execution_count": 29,
      "outputs": []
    },
    {
      "cell_type": "code",
      "metadata": {
        "colab": {
          "base_uri": "https://localhost:8080/"
        },
        "id": "7sunvlRcj-pH",
        "outputId": "4e67f24e-0105-47cc-e5c9-787cb5253a96"
      },
      "source": [
        "test_missing_num_col=[]\r\n",
        "for col in test_num_cols:\r\n",
        "  if  test[col].isnull().sum()>0:\r\n",
        "    test_missing_num_col.append(col)\r\n",
        "\r\n",
        "print(\"Number of Numeric columns with missing values are {} and columns are :{}\".format(len(test_missing_num_col),\r\n",
        "                                                                                test_missing_num_col) )"
      ],
      "execution_count": 30,
      "outputs": [
        {
          "output_type": "stream",
          "text": [
            "Number of Numeric columns with missing values are 2 and columns are :['LoanAmount', 'Loan_Amount_Term']\n"
          ],
          "name": "stdout"
        }
      ]
    },
    {
      "cell_type": "code",
      "metadata": {
        "id": "KdfsBI5UokFH"
      },
      "source": [
        "for col in test_missing_num_col:\r\n",
        "  test[col]=test[col].fillna(test[col].median())  #imputing with median"
      ],
      "execution_count": 31,
      "outputs": []
    },
    {
      "cell_type": "markdown",
      "metadata": {
        "id": "C1D5ri7Sox74"
      },
      "source": [
        "Imputing Categorical missing values"
      ]
    },
    {
      "cell_type": "code",
      "metadata": {
        "colab": {
          "base_uri": "https://localhost:8080/"
        },
        "id": "C2d4lQzvokIP",
        "outputId": "edb9d91a-44b0-49ce-9c66-c5d86c553b0e"
      },
      "source": [
        "train_missing_cat_col=[]\r\n",
        "for col in train_cat_cols:\r\n",
        "  if  train[col].isnull().sum()>0:\r\n",
        "    train_missing_cat_col.append(col)\r\n",
        "\r\n",
        "print(\"Number of Numeric columns with missing values are {} and columns are :{}\".format(len(train_missing_cat_col),\r\n",
        "                                                                                train_missing_cat_col) )"
      ],
      "execution_count": 32,
      "outputs": [
        {
          "output_type": "stream",
          "text": [
            "Number of Numeric columns with missing values are 5 and columns are :['Gender', 'Married', 'Dependents', 'Self_Employed', 'Credit_History']\n"
          ],
          "name": "stdout"
        }
      ]
    },
    {
      "cell_type": "code",
      "metadata": {
        "id": "WtAttHr8okLl"
      },
      "source": [
        "for col in train_missing_cat_col:\r\n",
        "  train[col]=train[col].fillna(train[col].mode()[0])  #Imputing with mode"
      ],
      "execution_count": 33,
      "outputs": []
    },
    {
      "cell_type": "code",
      "metadata": {
        "colab": {
          "base_uri": "https://localhost:8080/"
        },
        "id": "Cy0q5f9LpB1V",
        "outputId": "365ffb3f-dd99-4ad9-b082-84491cea7a9a"
      },
      "source": [
        "test_missing_cat_col=[]\r\n",
        "for col in test_cat_cols:\r\n",
        "  if  test[col].isnull().sum()>0:\r\n",
        "    test_missing_cat_col.append(col)\r\n",
        "\r\n",
        "print(\"Number of Numeric columns with missing values are {} and columns are :{}\".format(len(test_missing_cat_col),\r\n",
        "                                                                                test_missing_cat_col) )"
      ],
      "execution_count": 34,
      "outputs": [
        {
          "output_type": "stream",
          "text": [
            "Number of Numeric columns with missing values are 4 and columns are :['Gender', 'Dependents', 'Self_Employed', 'Credit_History']\n"
          ],
          "name": "stdout"
        }
      ]
    },
    {
      "cell_type": "code",
      "metadata": {
        "id": "WpVKnmazpOM9"
      },
      "source": [
        "for col in test_missing_cat_col:\r\n",
        "  test[col]=test[col].fillna(test[col].mode()[0])  #Imputing with mode"
      ],
      "execution_count": 35,
      "outputs": []
    },
    {
      "cell_type": "markdown",
      "metadata": {
        "id": "H711HqEDpzrG"
      },
      "source": [
        "Checking Imputation"
      ]
    },
    {
      "cell_type": "code",
      "metadata": {
        "colab": {
          "base_uri": "https://localhost:8080/"
        },
        "id": "yjN0irkwjQtK",
        "outputId": "87482f8a-23b0-4a9e-b7d4-712f37a7a98f"
      },
      "source": [
        "train.isnull().sum()"
      ],
      "execution_count": 36,
      "outputs": [
        {
          "output_type": "execute_result",
          "data": {
            "text/plain": [
              "Gender               0\n",
              "Married              0\n",
              "Dependents           0\n",
              "Education            0\n",
              "Self_Employed        0\n",
              "ApplicantIncome      0\n",
              "CoapplicantIncome    0\n",
              "LoanAmount           0\n",
              "Loan_Amount_Term     0\n",
              "Credit_History       0\n",
              "Property_Area        0\n",
              "Loan_Status          0\n",
              "dtype: int64"
            ]
          },
          "metadata": {
            "tags": []
          },
          "execution_count": 36
        }
      ]
    },
    {
      "cell_type": "code",
      "metadata": {
        "colab": {
          "base_uri": "https://localhost:8080/"
        },
        "id": "5PKVFU1_jQv_",
        "outputId": "88ffc1fe-fa69-441b-c5bc-4dfc6b7d7ed1"
      },
      "source": [
        "test.isnull().sum()"
      ],
      "execution_count": 37,
      "outputs": [
        {
          "output_type": "execute_result",
          "data": {
            "text/plain": [
              "Gender               0\n",
              "Married              0\n",
              "Dependents           0\n",
              "Education            0\n",
              "Self_Employed        0\n",
              "ApplicantIncome      0\n",
              "CoapplicantIncome    0\n",
              "LoanAmount           0\n",
              "Loan_Amount_Term     0\n",
              "Credit_History       0\n",
              "Property_Area        0\n",
              "dtype: int64"
            ]
          },
          "metadata": {
            "tags": []
          },
          "execution_count": 37
        }
      ]
    },
    {
      "cell_type": "code",
      "metadata": {
        "colab": {
          "base_uri": "https://localhost:8080/",
          "height": 272
        },
        "id": "TNfy1MRDAs4S",
        "outputId": "99e8ff0f-ffbf-474f-9a87-2d4283dd3447"
      },
      "source": [
        "train.head()"
      ],
      "execution_count": 38,
      "outputs": [
        {
          "output_type": "execute_result",
          "data": {
            "text/html": [
              "<div>\n",
              "<style scoped>\n",
              "    .dataframe tbody tr th:only-of-type {\n",
              "        vertical-align: middle;\n",
              "    }\n",
              "\n",
              "    .dataframe tbody tr th {\n",
              "        vertical-align: top;\n",
              "    }\n",
              "\n",
              "    .dataframe thead th {\n",
              "        text-align: right;\n",
              "    }\n",
              "</style>\n",
              "<table border=\"1\" class=\"dataframe\">\n",
              "  <thead>\n",
              "    <tr style=\"text-align: right;\">\n",
              "      <th></th>\n",
              "      <th>Gender</th>\n",
              "      <th>Married</th>\n",
              "      <th>Dependents</th>\n",
              "      <th>Education</th>\n",
              "      <th>Self_Employed</th>\n",
              "      <th>ApplicantIncome</th>\n",
              "      <th>CoapplicantIncome</th>\n",
              "      <th>LoanAmount</th>\n",
              "      <th>Loan_Amount_Term</th>\n",
              "      <th>Credit_History</th>\n",
              "      <th>Property_Area</th>\n",
              "      <th>Loan_Status</th>\n",
              "    </tr>\n",
              "    <tr>\n",
              "      <th>Loan_ID</th>\n",
              "      <th></th>\n",
              "      <th></th>\n",
              "      <th></th>\n",
              "      <th></th>\n",
              "      <th></th>\n",
              "      <th></th>\n",
              "      <th></th>\n",
              "      <th></th>\n",
              "      <th></th>\n",
              "      <th></th>\n",
              "      <th></th>\n",
              "      <th></th>\n",
              "    </tr>\n",
              "  </thead>\n",
              "  <tbody>\n",
              "    <tr>\n",
              "      <th>LP001002</th>\n",
              "      <td>Male</td>\n",
              "      <td>No</td>\n",
              "      <td>0</td>\n",
              "      <td>Graduate</td>\n",
              "      <td>No</td>\n",
              "      <td>5849</td>\n",
              "      <td>0.0</td>\n",
              "      <td>128.0</td>\n",
              "      <td>360.0</td>\n",
              "      <td>1.0</td>\n",
              "      <td>Urban</td>\n",
              "      <td>1</td>\n",
              "    </tr>\n",
              "    <tr>\n",
              "      <th>LP001003</th>\n",
              "      <td>Male</td>\n",
              "      <td>Yes</td>\n",
              "      <td>1</td>\n",
              "      <td>Graduate</td>\n",
              "      <td>No</td>\n",
              "      <td>4583</td>\n",
              "      <td>1508.0</td>\n",
              "      <td>128.0</td>\n",
              "      <td>360.0</td>\n",
              "      <td>1.0</td>\n",
              "      <td>Rural</td>\n",
              "      <td>0</td>\n",
              "    </tr>\n",
              "    <tr>\n",
              "      <th>LP001005</th>\n",
              "      <td>Male</td>\n",
              "      <td>Yes</td>\n",
              "      <td>0</td>\n",
              "      <td>Graduate</td>\n",
              "      <td>Yes</td>\n",
              "      <td>3000</td>\n",
              "      <td>0.0</td>\n",
              "      <td>66.0</td>\n",
              "      <td>360.0</td>\n",
              "      <td>1.0</td>\n",
              "      <td>Urban</td>\n",
              "      <td>1</td>\n",
              "    </tr>\n",
              "    <tr>\n",
              "      <th>LP001006</th>\n",
              "      <td>Male</td>\n",
              "      <td>Yes</td>\n",
              "      <td>0</td>\n",
              "      <td>Not Graduate</td>\n",
              "      <td>No</td>\n",
              "      <td>2583</td>\n",
              "      <td>2358.0</td>\n",
              "      <td>120.0</td>\n",
              "      <td>360.0</td>\n",
              "      <td>1.0</td>\n",
              "      <td>Urban</td>\n",
              "      <td>1</td>\n",
              "    </tr>\n",
              "    <tr>\n",
              "      <th>LP001008</th>\n",
              "      <td>Male</td>\n",
              "      <td>No</td>\n",
              "      <td>0</td>\n",
              "      <td>Graduate</td>\n",
              "      <td>No</td>\n",
              "      <td>6000</td>\n",
              "      <td>0.0</td>\n",
              "      <td>141.0</td>\n",
              "      <td>360.0</td>\n",
              "      <td>1.0</td>\n",
              "      <td>Urban</td>\n",
              "      <td>1</td>\n",
              "    </tr>\n",
              "  </tbody>\n",
              "</table>\n",
              "</div>"
            ],
            "text/plain": [
              "         Gender Married Dependents  ... Credit_History Property_Area  Loan_Status\n",
              "Loan_ID                             ...                                          \n",
              "LP001002   Male      No          0  ...            1.0         Urban            1\n",
              "LP001003   Male     Yes          1  ...            1.0         Rural            0\n",
              "LP001005   Male     Yes          0  ...            1.0         Urban            1\n",
              "LP001006   Male     Yes          0  ...            1.0         Urban            1\n",
              "LP001008   Male      No          0  ...            1.0         Urban            1\n",
              "\n",
              "[5 rows x 12 columns]"
            ]
          },
          "metadata": {
            "tags": []
          },
          "execution_count": 38
        }
      ]
    },
    {
      "cell_type": "markdown",
      "metadata": {
        "id": "-9YUOyTEBDgp"
      },
      "source": [
        "### Feature Engineering"
      ]
    },
    {
      "cell_type": "code",
      "metadata": {
        "id": "G7gAMqW5AtCB"
      },
      "source": [
        "train[\"Total_income\"]=train[\"ApplicantIncome\"]+train[\"CoapplicantIncome\"]\r\n",
        "test[\"Total_income\"]=test[\"ApplicantIncome\"]+test[\"CoapplicantIncome\"]"
      ],
      "execution_count": 39,
      "outputs": []
    },
    {
      "cell_type": "code",
      "metadata": {
        "id": "OSHukwVMBNnA"
      },
      "source": [
        "train[\"EMI\"]=train[\"LoanAmount\"]/train[\"Loan_Amount_Term\"]\r\n",
        "test[\"EMI\"]=test[\"LoanAmount\"]/test[\"Loan_Amount_Term\"]"
      ],
      "execution_count": 40,
      "outputs": []
    },
    {
      "cell_type": "code",
      "metadata": {
        "id": "Jt1S93jvBNp1"
      },
      "source": [
        "train.drop([\"ApplicantIncome\",\"CoapplicantIncome\",\"LoanAmount\",\"Loan_Amount_Term\"],axis=1,inplace=True)\r\n",
        "test.drop([\"ApplicantIncome\",\"CoapplicantIncome\",\"LoanAmount\",\"Loan_Amount_Term\"],axis=1,inplace=True)"
      ],
      "execution_count": 41,
      "outputs": []
    },
    {
      "cell_type": "code",
      "metadata": {
        "colab": {
          "base_uri": "https://localhost:8080/",
          "height": 805
        },
        "id": "xLFynlxTCPfC",
        "outputId": "fd3d1913-d6ea-4cb9-f2fb-2c987a828234"
      },
      "source": [
        "for col in train.select_dtypes(\"number\"):\r\n",
        "  sns.distplot(train[col],color=\"salmon\")\r\n",
        "  plt.show() "
      ],
      "execution_count": 42,
      "outputs": [
        {
          "output_type": "display_data",
          "data": {
            "image/png": "[encoded data removed]",
            "text/plain": [
              "<Figure size 432x288 with 1 Axes>"
            ]
          },
          "metadata": {
            "tags": [],
            "needs_background": "light"
          }
        },
        {
          "output_type": "display_data",
          "data": {
            "image/png": "[encoded data removed]",
            "text/plain": [
              "<Figure size 432x288 with 1 Axes>"
            ]
          },
          "metadata": {
            "tags": [],
            "needs_background": "light"
          }
        },
        {
          "output_type": "display_data",
          "data": {
            "image/png": "[encoded data removed]",
            "text/plain": [
              "<Figure size 432x288 with 1 Axes>"
            ]
          },
          "metadata": {
            "tags": [],
            "needs_background": "light"
          }
        }
      ]
    },
    {
      "cell_type": "markdown",
      "metadata": {
        "id": "rQrOGfWdHfZD"
      },
      "source": [
        "### Log Transforming skewed features"
      ]
    },
    {
      "cell_type": "code",
      "metadata": {
        "colab": {
          "base_uri": "https://localhost:8080/",
          "height": 805
        },
        "id": "f69yj7E0DsZa",
        "outputId": "8efa9671-0eb6-4dc8-e010-8110b3fb3dfc"
      },
      "source": [
        "train.Total_income = np.log(train.Total_income)\r\n",
        "test.Total_income = np.log(test.Total_income)\r\n",
        "train.EMI = np.log(train.EMI)\r\n",
        "test.EMI = np.log(test.EMI)\r\n",
        "\r\n",
        "for col in train.select_dtypes(\"number\"):\r\n",
        "  sns.distplot(train[col],color=\"salmon\")\r\n",
        "  plt.show() "
      ],
      "execution_count": 43,
      "outputs": [
        {
          "output_type": "display_data",
          "data": {
            "image/png": "[encoded data removed]",
            "text/plain": [
              "<Figure size 432x288 with 1 Axes>"
            ]
          },
          "metadata": {
            "tags": [],
            "needs_background": "light"
          }
        },
        {
          "output_type": "display_data",
          "data": {
            "image/png": "[encoded data removed]",
            "text/plain": [
              "<Figure size 432x288 with 1 Axes>"
            ]
          },
          "metadata": {
            "tags": [],
            "needs_background": "light"
          }
        },
        {
          "output_type": "display_data",
          "data": {
            "image/png": "[encoded data removed]",
            "text/plain": [
              "<Figure size 432x288 with 1 Axes>"
            ]
          },
          "metadata": {
            "tags": [],
            "needs_background": "light"
          }
        }
      ]
    },
    {
      "cell_type": "markdown",
      "metadata": {
        "id": "dYGCWIhTp8eG"
      },
      "source": [
        "### Feature Encoding "
      ]
    },
    {
      "cell_type": "code",
      "metadata": {
        "colab": {
          "base_uri": "https://localhost:8080/"
        },
        "id": "imqCHC_Kf82S",
        "outputId": "80a1d701-3984-4af3-b4d4-2b981c20e3a4"
      },
      "source": [
        "print(\"Train dataset\")\r\n",
        "for col in train.select_dtypes(\"object\"):\r\n",
        "    print(\"For column {} Number of Unique values : {} Values are : {}\".format(col,\r\n",
        "                                                                    train[col].nunique(),\r\n",
        "                                                                    train[col].unique()\r\n",
        "                                                                    ))"
      ],
      "execution_count": 44,
      "outputs": [
        {
          "output_type": "stream",
          "text": [
            "Train dataset\n",
            "For column Gender Number of Unique values : 2 Values are : ['Male' 'Female']\n",
            "For column Married Number of Unique values : 2 Values are : ['No' 'Yes']\n",
            "For column Dependents Number of Unique values : 4 Values are : ['0' '1' '2' '3+']\n",
            "For column Education Number of Unique values : 2 Values are : ['Graduate' 'Not Graduate']\n",
            "For column Self_Employed Number of Unique values : 2 Values are : ['No' 'Yes']\n",
            "For column Property_Area Number of Unique values : 3 Values are : ['Urban' 'Rural' 'Semiurban']\n"
          ],
          "name": "stdout"
        }
      ]
    },
    {
      "cell_type": "code",
      "metadata": {
        "colab": {
          "base_uri": "https://localhost:8080/"
        },
        "id": "WVE75nAjgDIT",
        "outputId": "c8ec761d-f783-43ed-e9f4-c633eee3dd25"
      },
      "source": [
        "print(\"Test dataset\")\r\n",
        "for col in test.select_dtypes(\"object\"):\r\n",
        "    print(\"For column {} Number of Unique values : {} Values are : {}\".format(col,\r\n",
        "                                                                    test[col].nunique(),\r\n",
        "                                                                    test[col].unique()\r\n",
        "                                                                    ))"
      ],
      "execution_count": 45,
      "outputs": [
        {
          "output_type": "stream",
          "text": [
            "Test dataset\n",
            "For column Gender Number of Unique values : 2 Values are : ['Male' 'Female']\n",
            "For column Married Number of Unique values : 2 Values are : ['Yes' 'No']\n",
            "For column Dependents Number of Unique values : 4 Values are : ['0' '1' '2' '3+']\n",
            "For column Education Number of Unique values : 2 Values are : ['Graduate' 'Not Graduate']\n",
            "For column Self_Employed Number of Unique values : 2 Values are : ['No' 'Yes']\n",
            "For column Property_Area Number of Unique values : 3 Values are : ['Urban' 'Semiurban' 'Rural']\n"
          ],
          "name": "stdout"
        }
      ]
    },
    {
      "cell_type": "code",
      "metadata": {
        "id": "4c2-A7xatTvT"
      },
      "source": [
        "train.Dependents=train.Dependents.replace(\"3+\",\"3\")\r\n",
        "train.Dependents=train.Dependents.astype(\"int\")"
      ],
      "execution_count": 46,
      "outputs": []
    },
    {
      "cell_type": "code",
      "metadata": {
        "id": "oh-lDEHEtvRp"
      },
      "source": [
        "test.Dependents=test.Dependents.replace(\"3+\",\"3\")\r\n",
        "test.Dependents=test.Dependents.astype(\"int\")"
      ],
      "execution_count": 47,
      "outputs": []
    },
    {
      "cell_type": "markdown",
      "metadata": {
        "id": "hgjiekCJ4BIf"
      },
      "source": [
        "Splitting Train dataset to Features and Label"
      ]
    },
    {
      "cell_type": "code",
      "metadata": {
        "id": "m-U_GN9n2-Z_"
      },
      "source": [
        "X=train.drop(\"Loan_Status\",axis=1)\r\n",
        "y=train.Loan_Status"
      ],
      "execution_count": 48,
      "outputs": []
    },
    {
      "cell_type": "markdown",
      "metadata": {
        "id": "TP-fdhx14GrO"
      },
      "source": [
        "One-Hot Encoding"
      ]
    },
    {
      "cell_type": "code",
      "metadata": {
        "colab": {
          "base_uri": "https://localhost:8080/"
        },
        "id": "tZg8YKFJrOxL",
        "outputId": "d68efba6-888b-4410-ec46-60298156a8bf"
      },
      "source": [
        "cat_col_index=[]\r\n",
        "for col in X.select_dtypes(\"object\"):\r\n",
        "  cat_col_index.append(X.columns.get_loc(col))\r\n",
        "cat_col_index"
      ],
      "execution_count": 49,
      "outputs": [
        {
          "output_type": "execute_result",
          "data": {
            "text/plain": [
              "[0, 1, 3, 4, 6]"
            ]
          },
          "metadata": {
            "tags": []
          },
          "execution_count": 49
        }
      ]
    },
    {
      "cell_type": "markdown",
      "metadata": {
        "id": "igsgMFjS35Jo"
      },
      "source": [
        ""
      ]
    },
    {
      "cell_type": "code",
      "metadata": {
        "id": "V9nV6zIhz_C3"
      },
      "source": [
        "ct=ColumnTransformer(transformers=[(\"ohe\",OneHotEncoder(drop=\"first\"),cat_col_index)],remainder=\"passthrough\")\r\n",
        "X=ct.fit_transform(X)\r\n",
        "test=ct.transform(test)\r\n"
      ],
      "execution_count": 50,
      "outputs": []
    },
    {
      "cell_type": "markdown",
      "metadata": {
        "id": "dZZxwV6U32HD"
      },
      "source": [
        "Splitting train data to Training and Validation set"
      ]
    },
    {
      "cell_type": "code",
      "metadata": {
        "id": "T_bv5HeC0byo"
      },
      "source": [
        "X_train,X_test,y_train,y_test=train_test_split(X,y,test_size=.2,random_state=42)"
      ],
      "execution_count": 51,
      "outputs": []
    },
    {
      "cell_type": "markdown",
      "metadata": {
        "id": "jc3ZCjl-4R1Q"
      },
      "source": [
        "### Model Building"
      ]
    },
    {
      "cell_type": "markdown",
      "metadata": {
        "id": "rRM9exno4qQO"
      },
      "source": [
        "### Logistic Regression"
      ]
    },
    {
      "cell_type": "code",
      "metadata": {
        "colab": {
          "base_uri": "https://localhost:8080/"
        },
        "id": "bhq4R2lq0dWt",
        "outputId": "2fd10a7c-591f-472d-9d43-5ad3d63316e8"
      },
      "source": [
        "lg=LogisticRegression()\r\n",
        "lg.fit(X_train,y_train)"
      ],
      "execution_count": 52,
      "outputs": [
        {
          "output_type": "execute_result",
          "data": {
            "text/plain": [
              "LogisticRegression(C=1.0, class_weight=None, dual=False, fit_intercept=True,\n",
              "                   intercept_scaling=1, l1_ratio=None, max_iter=100,\n",
              "                   multi_class='auto', n_jobs=None, penalty='l2',\n",
              "                   random_state=None, solver='lbfgs', tol=0.0001, verbose=0,\n",
              "                   warm_start=False)"
            ]
          },
          "metadata": {
            "tags": []
          },
          "execution_count": 52
        }
      ]
    },
    {
      "cell_type": "code",
      "metadata": {
        "colab": {
          "base_uri": "https://localhost:8080/"
        },
        "id": "9Vvnky2v4x8Q",
        "outputId": "92765863-cf06-442a-c1b6-f198fdf45676"
      },
      "source": [
        "lg.score(X_train,y_train),lg.score(X_test,y_test)"
      ],
      "execution_count": 53,
      "outputs": [
        {
          "output_type": "execute_result",
          "data": {
            "text/plain": [
              "(0.814663951120163, 0.7886178861788617)"
            ]
          },
          "metadata": {
            "tags": []
          },
          "execution_count": 53
        }
      ]
    },
    {
      "cell_type": "code",
      "metadata": {
        "colab": {
          "base_uri": "https://localhost:8080/"
        },
        "id": "NnZSf11A44FK",
        "outputId": "60737a89-7184-4554-fb35-fc807347a911"
      },
      "source": [
        "print(classification_report(y_test,lg.predict(X_test)))"
      ],
      "execution_count": 54,
      "outputs": [
        {
          "output_type": "stream",
          "text": [
            "              precision    recall  f1-score   support\n",
            "\n",
            "           0       0.95      0.42      0.58        43\n",
            "           1       0.76      0.99      0.86        80\n",
            "\n",
            "    accuracy                           0.79       123\n",
            "   macro avg       0.85      0.70      0.72       123\n",
            "weighted avg       0.83      0.79      0.76       123\n",
            "\n"
          ],
          "name": "stdout"
        }
      ]
    },
    {
      "cell_type": "code",
      "metadata": {
        "colab": {
          "base_uri": "https://localhost:8080/",
          "height": 306
        },
        "id": "kfonnMvI5FAO",
        "outputId": "9ed76862-7fa7-419d-91ba-f82ed602b7ef"
      },
      "source": [
        "plot_confusion_matrix(conf_mat=confusion_matrix(y_test,lg.predict(X_test)),\r\n",
        "                                                show_normed=True\r\n",
        "                                                )\r\n",
        "plt.title(\"Logistic Regeression\")\r\n",
        "plt.show()"
      ],
      "execution_count": 55,
      "outputs": [
        {
          "output_type": "display_data",
          "data": {
            "image/png": "[encoded data removed]",
            "text/plain": [
              "<Figure size 432x288 with 1 Axes>"
            ]
          },
          "metadata": {
            "tags": [],
            "needs_background": "light"
          }
        }
      ]
    },
    {
      "cell_type": "code",
      "metadata": {
        "colab": {
          "base_uri": "https://localhost:8080/",
          "height": 279
        },
        "id": "IhWtCCBl5b3R",
        "outputId": "869a89e3-5286-41de-fa2b-4e02592b7c85"
      },
      "source": [
        "plot_roc_curve(lg,X_test,y_test)\r\n",
        "plt.plot([0,1],[0,1],linestyle='--')\r\n",
        "plt.show()"
      ],
      "execution_count": 56,
      "outputs": [
        {
          "output_type": "display_data",
          "data": {
            "image/png": "[encoded data removed]",
            "text/plain": [
              "<Figure size 432x288 with 1 Axes>"
            ]
          },
          "metadata": {
            "tags": [],
            "needs_background": "light"
          }
        }
      ]
    },
    {
      "cell_type": "markdown",
      "metadata": {
        "id": "exKMrcvh6T52"
      },
      "source": [
        "Random Forest Classifier"
      ]
    },
    {
      "cell_type": "code",
      "metadata": {
        "colab": {
          "base_uri": "https://localhost:8080/"
        },
        "id": "OiVOwfa36IRX",
        "outputId": "38a98f38-4b40-4ede-8c16-37fd87bc551f"
      },
      "source": [
        "rf=RandomForestClassifier()\r\n",
        "rf.fit(X_train,y_train)"
      ],
      "execution_count": 57,
      "outputs": [
        {
          "output_type": "execute_result",
          "data": {
            "text/plain": [
              "RandomForestClassifier(bootstrap=True, ccp_alpha=0.0, class_weight=None,\n",
              "                       criterion='gini', max_depth=None, max_features='auto',\n",
              "                       max_leaf_nodes=None, max_samples=None,\n",
              "                       min_impurity_decrease=0.0, min_impurity_split=None,\n",
              "                       min_samples_leaf=1, min_samples_split=2,\n",
              "                       min_weight_fraction_leaf=0.0, n_estimators=100,\n",
              "                       n_jobs=None, oob_score=False, random_state=None,\n",
              "                       verbose=0, warm_start=False)"
            ]
          },
          "metadata": {
            "tags": []
          },
          "execution_count": 57
        }
      ]
    },
    {
      "cell_type": "code",
      "metadata": {
        "colab": {
          "base_uri": "https://localhost:8080/"
        },
        "id": "47xc6E1p6eQo",
        "outputId": "2421f80a-8e3e-411a-b93c-386d4272c7ec"
      },
      "source": [
        "rf.score(X_train,y_train),rf.score(X_test,y_test)"
      ],
      "execution_count": 58,
      "outputs": [
        {
          "output_type": "execute_result",
          "data": {
            "text/plain": [
              "(1.0, 0.7723577235772358)"
            ]
          },
          "metadata": {
            "tags": []
          },
          "execution_count": 58
        }
      ]
    },
    {
      "cell_type": "code",
      "metadata": {
        "colab": {
          "base_uri": "https://localhost:8080/"
        },
        "id": "_YBKiZwJ6eTz",
        "outputId": "40804c07-5a75-4d95-935e-b1652147377f"
      },
      "source": [
        "print(classification_report(y_test,rf.predict(X_test)))"
      ],
      "execution_count": 59,
      "outputs": [
        {
          "output_type": "stream",
          "text": [
            "              precision    recall  f1-score   support\n",
            "\n",
            "           0       0.83      0.44      0.58        43\n",
            "           1       0.76      0.95      0.84        80\n",
            "\n",
            "    accuracy                           0.77       123\n",
            "   macro avg       0.79      0.70      0.71       123\n",
            "weighted avg       0.78      0.77      0.75       123\n",
            "\n"
          ],
          "name": "stdout"
        }
      ]
    },
    {
      "cell_type": "code",
      "metadata": {
        "colab": {
          "base_uri": "https://localhost:8080/",
          "height": 306
        },
        "id": "bxZDcMzm6eWc",
        "outputId": "76331913-48fe-4f27-d8b9-9e07b7110966"
      },
      "source": [
        "plot_confusion_matrix(conf_mat=confusion_matrix(y_test,rf.predict(X_test)),\r\n",
        "                                                show_normed=True\r\n",
        "                                                )\r\n",
        "plt.title(\"Random Forest Classifier\")\r\n",
        "plt.show()"
      ],
      "execution_count": 60,
      "outputs": [
        {
          "output_type": "display_data",
          "data": {
            "image/png": "[encoded data removed]",
            "text/plain": [
              "<Figure size 432x288 with 1 Axes>"
            ]
          },
          "metadata": {
            "tags": [],
            "needs_background": "light"
          }
        }
      ]
    },
    {
      "cell_type": "code",
      "metadata": {
        "colab": {
          "base_uri": "https://localhost:8080/",
          "height": 279
        },
        "id": "GMcNvnhC6vkN",
        "outputId": "3a2fbbf8-44ef-49d3-8b38-3f353ae6bc84"
      },
      "source": [
        "plot_roc_curve(rf,X_test,y_test)\r\n",
        "plt.plot([0,1],[0,1],linestyle='--')\r\n",
        "plt.show()"
      ],
      "execution_count": 61,
      "outputs": [
        {
          "output_type": "display_data",
          "data": {
            "image/png": "[encoded data removed]",
            "text/plain": [
              "<Figure size 432x288 with 1 Axes>"
            ]
          },
          "metadata": {
            "tags": [],
            "needs_background": "light"
          }
        }
      ]
    },
    {
      "cell_type": "markdown",
      "metadata": {
        "id": "ISyypbaeG4T8"
      },
      "source": [
        "Grid Search "
      ]
    },
    {
      "cell_type": "code",
      "metadata": {
        "colab": {
          "base_uri": "https://localhost:8080/"
        },
        "id": "wlYmOTj66y4z",
        "outputId": "2b2fdea8-7712-4093-b406-4e247d035715"
      },
      "source": [
        "from sklearn.model_selection import GridSearchCV,RandomizedSearchCV\r\n",
        "model=RandomForestClassifier()\r\n",
        "param_grid={ \"max_features\":[\"auto\",\"sqrt\"],\r\n",
        "            \"max_depth\":[int(x) for x in np.linspace(4,20,17)],\r\n",
        "            \"criterion\":[\"gini\",'entropy'],\r\n",
        "            \"min_samples_leaf\":[int(x) for x in np.linspace(3,20,18)],\r\n",
        "            \"min_samples_split\":[int(x) for x in np.linspace(3,20,18)],\r\n",
        "            \"oob_score\":[True,False],\r\n",
        "            \"n_estimators\":[int(x) for x in np.linspace(100,1500,15)]\r\n",
        "}\r\n",
        "grid=RandomizedSearchCV(model,\r\n",
        "                  param_grid,\r\n",
        "                  n_jobs=-1,\r\n",
        "                  refit=True)\r\n",
        "grid.fit(X_train,y_train)"
      ],
      "execution_count": 62,
      "outputs": [
        {
          "output_type": "execute_result",
          "data": {
            "text/plain": [
              "RandomizedSearchCV(cv=None, error_score=nan,\n",
              "                   estimator=RandomForestClassifier(bootstrap=True,\n",
              "                                                    ccp_alpha=0.0,\n",
              "                                                    class_weight=None,\n",
              "                                                    criterion='gini',\n",
              "                                                    max_depth=None,\n",
              "                                                    max_features='auto',\n",
              "                                                    max_leaf_nodes=None,\n",
              "                                                    max_samples=None,\n",
              "                                                    min_impurity_decrease=0.0,\n",
              "                                                    min_impurity_split=None,\n",
              "                                                    min_samples_leaf=1,\n",
              "                                                    min_samples_split=2,\n",
              "                                                    min_weight_fraction_leaf=0.0,\n",
              "                                                    n_estimators=100,\n",
              "                                                    n_j...\n",
              "                                        'max_features': ['auto', 'sqrt'],\n",
              "                                        'min_samples_leaf': [3, 4, 5, 6, 7, 8,\n",
              "                                                             9, 10, 11, 12, 13,\n",
              "                                                             14, 15, 16, 17, 18,\n",
              "                                                             19, 20],\n",
              "                                        'min_samples_split': [3, 4, 5, 6, 7, 8,\n",
              "                                                              9, 10, 11, 12, 13,\n",
              "                                                              14, 15, 16, 17,\n",
              "                                                              18, 19, 20],\n",
              "                                        'n_estimators': [100, 200, 300, 400,\n",
              "                                                         500, 600, 700, 800,\n",
              "                                                         900, 1000, 1100, 1200,\n",
              "                                                         1300, 1400, 1500],\n",
              "                                        'oob_score': [True, False]},\n",
              "                   pre_dispatch='2*n_jobs', random_state=None, refit=True,\n",
              "                   return_train_score=False, scoring=None, verbose=0)"
            ]
          },
          "metadata": {
            "tags": []
          },
          "execution_count": 62
        }
      ]
    },
    {
      "cell_type": "code",
      "metadata": {
        "colab": {
          "base_uri": "https://localhost:8080/"
        },
        "id": "vj2BlSEs7gcC",
        "outputId": "6262f41e-b1c7-49b2-980a-28126bb65307"
      },
      "source": [
        "print(classification_report(y_test,grid.predict(X_test)))"
      ],
      "execution_count": 63,
      "outputs": [
        {
          "output_type": "stream",
          "text": [
            "              precision    recall  f1-score   support\n",
            "\n",
            "           0       0.90      0.42      0.57        43\n",
            "           1       0.76      0.97      0.85        80\n",
            "\n",
            "    accuracy                           0.78       123\n",
            "   macro avg       0.83      0.70      0.71       123\n",
            "weighted avg       0.81      0.78      0.75       123\n",
            "\n"
          ],
          "name": "stdout"
        }
      ]
    },
    {
      "cell_type": "code",
      "metadata": {
        "colab": {
          "base_uri": "https://localhost:8080/",
          "height": 306
        },
        "id": "aXCWDzT67ja3",
        "outputId": "d98b941e-8a6a-4155-9e20-95ea0edbd0be"
      },
      "source": [
        "plot_confusion_matrix(conf_mat=confusion_matrix(y_test,grid.predict(X_test)),\r\n",
        "                                                show_normed=True\r\n",
        "                                                )\r\n",
        "plt.title(\"Random Forest Classifier\")\r\n",
        "plt.show()"
      ],
      "execution_count": 64,
      "outputs": [
        {
          "output_type": "display_data",
          "data": {
            "image/png": "[encoded data removed]",
            "text/plain": [
              "<Figure size 432x288 with 1 Axes>"
            ]
          },
          "metadata": {
            "tags": [],
            "needs_background": "light"
          }
        }
      ]
    },
    {
      "cell_type": "code",
      "metadata": {
        "colab": {
          "base_uri": "https://localhost:8080/",
          "height": 279
        },
        "id": "cAhejLuA9RRQ",
        "outputId": "05671f12-a858-47a0-c176-722505934628"
      },
      "source": [
        "plot_roc_curve(grid,X_test,y_test)\r\n",
        "plt.plot([0,1],[0,1],linestyle='--')\r\n",
        "plt.show()"
      ],
      "execution_count": 65,
      "outputs": [
        {
          "output_type": "display_data",
          "data": {
            "image/png": "[encoded data removed]",
            "text/plain": [
              "<Figure size 432x288 with 1 Axes>"
            ]
          },
          "metadata": {
            "tags": [],
            "needs_background": "light"
          }
        }
      ]
    },
    {
      "cell_type": "code",
      "metadata": {
        "colab": {
          "base_uri": "https://localhost:8080/"
        },
        "id": "XK8e1X4V-mqL",
        "outputId": "1cf23db1-c372-412e-f8f9-a56c679758d2"
      },
      "source": [
        "y.value_counts(normalize=True)"
      ],
      "execution_count": 66,
      "outputs": [
        {
          "output_type": "execute_result",
          "data": {
            "text/plain": [
              "1    0.687296\n",
              "0    0.312704\n",
              "Name: Loan_Status, dtype: float64"
            ]
          },
          "metadata": {
            "tags": []
          },
          "execution_count": 66
        }
      ]
    },
    {
      "cell_type": "code",
      "metadata": {
        "colab": {
          "base_uri": "https://localhost:8080/"
        },
        "id": "_sVFs8Mn-rxI",
        "outputId": "2304bb0d-b2a3-4fa5-bc92-a99b09b624ad"
      },
      "source": [
        "from xgboost import XGBClassifier\r\n",
        "xb=XGBClassifier()\r\n",
        "xb.fit(X_train,y_train)"
      ],
      "execution_count": 67,
      "outputs": [
        {
          "output_type": "execute_result",
          "data": {
            "text/plain": [
              "XGBClassifier(base_score=0.5, booster='gbtree', colsample_bylevel=1,\n",
              "              colsample_bynode=1, colsample_bytree=1, gamma=0,\n",
              "              learning_rate=0.1, max_delta_step=0, max_depth=3,\n",
              "              min_child_weight=1, missing=None, n_estimators=100, n_jobs=1,\n",
              "              nthread=None, objective='binary:logistic', random_state=0,\n",
              "              reg_alpha=0, reg_lambda=1, scale_pos_weight=1, seed=None,\n",
              "              silent=None, subsample=1, verbosity=1)"
            ]
          },
          "metadata": {
            "tags": []
          },
          "execution_count": 67
        }
      ]
    },
    {
      "cell_type": "code",
      "metadata": {
        "colab": {
          "base_uri": "https://localhost:8080/"
        },
        "id": "bP4xh3ij-6E1",
        "outputId": "b40321e1-d206-49ac-ed68-f1c3310c7656"
      },
      "source": [
        "print(classification_report(y_test,xb.predict(X_test)))"
      ],
      "execution_count": 68,
      "outputs": [
        {
          "output_type": "stream",
          "text": [
            "              precision    recall  f1-score   support\n",
            "\n",
            "           0       0.88      0.49      0.63        43\n",
            "           1       0.78      0.96      0.86        80\n",
            "\n",
            "    accuracy                           0.80       123\n",
            "   macro avg       0.83      0.73      0.74       123\n",
            "weighted avg       0.81      0.80      0.78       123\n",
            "\n"
          ],
          "name": "stdout"
        }
      ]
    },
    {
      "cell_type": "code",
      "metadata": {
        "colab": {
          "base_uri": "https://localhost:8080/",
          "height": 279
        },
        "id": "lExaeCjDH2Tt",
        "outputId": "44f232b6-7a45-46cd-aa6b-aa347c9973f9"
      },
      "source": [
        "plot_roc_curve(xb,X_test,y_test)\r\n",
        "plt.plot([0,1],[0,1],linestyle='--')\r\n",
        "plt.show()"
      ],
      "execution_count": 69,
      "outputs": [
        {
          "output_type": "display_data",
          "data": {
            "image/png": "[encoded data removed]",
            "text/plain": [
              "<Figure size 432x288 with 1 Axes>"
            ]
          },
          "metadata": {
            "tags": [],
            "needs_background": "light"
          }
        }
      ]
    },
    {
      "cell_type": "code",
      "metadata": {
        "id": "_KP_AGdUH4er"
      },
      "source": [
        "test_predicted_loan_approval=grid.predict(test)"
      ],
      "execution_count": 70,
      "outputs": []
    }
  ]
}